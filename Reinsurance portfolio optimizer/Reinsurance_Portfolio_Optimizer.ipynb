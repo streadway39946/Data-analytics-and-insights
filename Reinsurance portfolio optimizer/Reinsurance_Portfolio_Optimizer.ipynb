{
  "nbformat": 4,
  "nbformat_minor": 0,
  "metadata": {
    "colab": {
      "provenance": [],
      "collapsed_sections": [
        "hL77L3Uei59o"
      ]
    },
    "kernelspec": {
      "name": "python3",
      "display_name": "Python 3"
    },
    "language_info": {
      "name": "python"
    }
  },
  "cells": [
    {
      "cell_type": "markdown",
      "source": [
        "#Set-Up"
      ],
      "metadata": {
        "id": "hL77L3Uei59o"
      }
    },
    {
      "cell_type": "code",
      "source": [
        "#Copy-and-paste the code below to use as \"set-up\" when your optimization model uses Pyomo and Coin-OR solvers.\n",
        "#for reference, see https://jckantor.github.io/ND-Pyomo-Cookbook/notebooks/01.02-Running-Pyomo-on-Google-Colab.html#installing-pyomo-and-solvers\n",
        "\n",
        "%%capture\n",
        "import sys\n",
        "import os\n",
        "\n",
        "if 'google.colab' in sys.modules:\n",
        "    !pip install idaes-pse --pre\n",
        "    !idaes get-extensions --to ./bin\n",
        "    os.environ['PATH'] += ':bin'\n",
        "\n",
        "from pyomo.environ import *"
      ],
      "metadata": {
        "id": "LEAjzJMXkLk1"
      },
      "execution_count": 1,
      "outputs": []
    },
    {
      "cell_type": "markdown",
      "source": [
        "# Reinsurance Portfolio Optimizer\n",
        "\n",
        "This model allocates reinsurance coverage across various risk categories to minimize expected losses, stay within budget, meet regulatory capital requirements, and maximize coverage efficiency."
      ],
      "metadata": {
        "id": "sSZzr1WtkMfN"
      }
    },
    {
      "cell_type": "code",
      "source": [
        "import random\n",
        "\n",
        "# Simulated Data (Feasibility ensured)\n",
        "risk_categories = ['Flood', 'Fire', 'Auto']\n",
        "reinsurance_contracts = ['Contract_A', 'Contract_B', 'Contract_C']\n",
        "\n",
        "# Expected losses per risk category\n",
        "expected_loss = {'Flood': 100000, 'Fire': 80000, 'Auto': 60000}\n",
        "\n",
        "# Recovery rate: proportion of loss covered by each contract for each risk\n",
        "recovery_rate = {(risk, contract): round(random.uniform(0.4, 0.6), 2)\n",
        "                 for risk in risk_categories for contract in reinsurance_contracts}\n",
        "\n",
        "# Price per unit of coverage for each contract and risk\n",
        "unit_price = {(risk, contract): round(random.uniform(1, 3), 2)\n",
        "              for risk in risk_categories for contract in reinsurance_contracts}\n",
        "\n",
        "# Maximum coverage allowed by each contract for each risk\n",
        "max_coverage_limit = {(risk, contract): random.randint(20000, 50000)\n",
        "                      for risk in risk_categories for contract in reinsurance_contracts}\n",
        "\n",
        "# Fixed cost for selecting a contract\n",
        "fixed_cost = {contract: random.randint(5000, 15000) for contract in reinsurance_contracts}\n",
        "\n",
        "# Total budget for purchasing reinsurance\n",
        "total_budget = 300000\n",
        "\n",
        "# Maximum allowable retained loss after reinsurance\n",
        "capital_retention_limit = 200000\n",
        "\n",
        "# Pyomo Model\n",
        "model = ConcreteModel()\n",
        "\n",
        "model.Risks = Set(initialize=risk_categories)\n",
        "model.Contracts = Set(initialize=reinsurance_contracts)\n",
        "\n",
        "model.ExpectedLoss = Param(model.Risks, initialize=expected_loss)\n",
        "model.RecoveryRate = Param(model.Risks, model.Contracts, initialize=recovery_rate)\n",
        "model.UnitPrice = Param(model.Risks, model.Contracts, initialize=unit_price)\n",
        "model.MaxCoverage = Param(model.Risks, model.Contracts, initialize=max_coverage_limit)\n",
        "model.FixedCost = Param(model.Contracts, initialize=fixed_cost)\n",
        "\n",
        "# Decision variables:\n",
        "# Continuous variable for coverage amount purchased\n",
        "model.CoverageAmount = Var(model.Risks, model.Contracts, domain=NonNegativeReals)\n",
        "\n",
        "# Binary decision variable for contract selection\n",
        "# This indicates whether a contract is chosen (1) or not (0)\n",
        "model.SelectContract = Var(model.Contracts, domain=Binary)\n",
        "\n",
        "# Objective: Minimize total expected net loss after reinsurance\n",
        "def objective_rule(model):\n",
        "    return sum(model.ExpectedLoss[r] - sum(model.CoverageAmount[r, c] * model.RecoveryRate[r, c]\n",
        "                                            for c in model.Contracts)\n",
        "               for r in model.Risks)\n",
        "model.TotalNetLoss = Objective(rule=objective_rule, sense=minimize)\n",
        "\n",
        "# Budget constraint:\n",
        "# Includes both variable coverage costs and fixed costs for selected contracts\n",
        "def budget_constraint_rule(model):\n",
        "    return (sum(model.UnitPrice[r, c] * model.CoverageAmount[r, c]\n",
        "                for r in model.Risks for c in model.Contracts)\n",
        "            + sum(model.FixedCost[c] * model.SelectContract[c] for c in model.Contracts)) <= total_budget\n",
        "model.BudgetConstraint = Constraint(rule=budget_constraint_rule)\n",
        "\n",
        "# Capital retention constraint:\n",
        "# Ensures total retained loss after reinsurance does not exceed the limit\n",
        "def capital_constraint_rule(model):\n",
        "    return sum(model.ExpectedLoss[r] - sum(model.CoverageAmount[r, c] * model.RecoveryRate[r, c]\n",
        "                                           for c in model.Contracts)\n",
        "               for r in model.Risks) <= capital_retention_limit\n",
        "model.CapitalConstraint = Constraint(rule=capital_constraint_rule)\n",
        "\n",
        "# Coverage linked to contract selection:\n",
        "# If a contract is not selected (SelectContract[c] = 0), coverage must be zero\n",
        "# If selected (SelectContract[c] = 1), coverage can go up to MaxCoverage\n",
        "def coverage_selection_rule(model, r, c):\n",
        "    return model.CoverageAmount[r, c] <= model.MaxCoverage[r, c] * model.SelectContract[c]\n",
        "model.CoverageSelectionConstraint = Constraint(model.Risks, model.Contracts, rule=coverage_selection_rule)\n",
        "\n",
        "# Solve\n",
        "solver = SolverFactory('cbc')\n",
        "results = solver.solve(model)\n",
        "\n",
        "# Check solver status\n",
        "if results.solver.termination_condition == TerminationCondition.optimal:\n",
        "    # Print total expected loss before reinsurance\n",
        "    total_loss_before = sum(expected_loss[risk] for risk in risk_categories)\n",
        "    print(f\"Total Expected Net Loss Before Reinsurance: {total_loss_before:.2f}\")\n",
        "\n",
        "    # Results: Which contracts were selected (binary variable usage)\n",
        "    selected_contracts = []\n",
        "    for c in model.Contracts:\n",
        "        if model.SelectContract[c].value == 1:  # Binary variable indicates selection\n",
        "            selected_contracts.append(c)\n",
        "\n",
        "    print(\"\\nSelected Contracts:\")\n",
        "    for c in selected_contracts:\n",
        "        print(f\"Contract: {c}, Fixed Cost: ${fixed_cost[c]:,.0f}\")\n",
        "\n",
        "    print(\"\\nCoverage Details:\")\n",
        "    for r in model.Risks:\n",
        "        for c in model.Contracts:\n",
        "            coverage = model.CoverageAmount[r, c].value\n",
        "            if coverage is not None and coverage > 0:\n",
        "                print(f\"Risk: {r}, Contract: {c}, Coverage Purchased: {coverage:.2f}\")\n",
        "\n",
        "    # Compute and print total expected net loss after reinsurance\n",
        "    total_net_loss = 0\n",
        "    for r in model.Risks:\n",
        "        loss = model.ExpectedLoss[r]\n",
        "        recovered = sum(\n",
        "            model.CoverageAmount[r, c].value * model.RecoveryRate[r, c]\n",
        "            if model.CoverageAmount[r, c].value is not None else 0\n",
        "            for c in model.Contracts\n",
        "        )\n",
        "        net_loss = loss - recovered\n",
        "        total_net_loss += net_loss\n",
        "\n",
        "    print(f\"\\nTotal Expected Net Loss After Reinsurance: {total_net_loss:.2f}\")\n",
        "else:\n",
        "    print(\"Model is infeasible or solver did not find an optimal solution.\")"
      ],
      "metadata": {
        "id": "LOUSE0Xnpy-D",
        "colab": {
          "base_uri": "https://localhost:8080/"
        },
        "outputId": "b509eaf4-fb84-4ae1-e901-a27d895cdc39"
      },
      "execution_count": 2,
      "outputs": [
        {
          "output_type": "stream",
          "name": "stdout",
          "text": [
            "Total Expected Net Loss Before Reinsurance: 240000.00\n",
            "\n",
            "Selected Contracts:\n",
            "Contract: Contract_A, Fixed Cost: $10,927\n",
            "Contract: Contract_B, Fixed Cost: $9,105\n",
            "Contract: Contract_C, Fixed Cost: $12,558\n",
            "\n",
            "Coverage Details:\n",
            "Risk: Flood, Contract: Contract_A, Coverage Purchased: 49275.00\n",
            "Risk: Fire, Contract: Contract_A, Coverage Purchased: 34010.00\n",
            "Risk: Auto, Contract: Contract_A, Coverage Purchased: 21091.21\n",
            "Risk: Auto, Contract: Contract_B, Coverage Purchased: 39462.00\n",
            "Risk: Auto, Contract: Contract_C, Coverage Purchased: 35138.00\n",
            "\n",
            "Total Expected Net Loss After Reinsurance: 143627.77\n"
          ]
        }
      ]
    },
    {
      "cell_type": "code",
      "source": [
        "# importing libraries so I can create a visualization of the total expected net losses\n",
        "# before and after purchasing reinsurance\n",
        "import seaborn as sns\n",
        "import matplotlib.pyplot as plt\n",
        "import pandas as pd\n",
        "\n",
        "# Prepare data for plotting\n",
        "data = {\n",
        "    'Stage': ['Before Reinsurance', 'After Reinsurance'],\n",
        "    'Loss': [total_loss_before, total_net_loss]\n",
        "}\n",
        "df = pd.DataFrame(data)\n",
        "\n",
        "# Create bar plot\n",
        "sns.set_style(\"whitegrid\")\n",
        "plt.figure(figsize=(8, 6))\n",
        "barplot = sns.barplot(x='Stage', y='Loss', data=df, palette=['red', 'green'])\n",
        "\n",
        "# Add labels and title\n",
        "plt.ylabel('Total Expected Net Loss (USD)')\n",
        "plt.title('Loss Comparison Before and After Reinsurance')\n",
        "\n",
        "# Display values above bars\n",
        "for index, row in df.iterrows():\n",
        "    barplot.text(index, row['Loss'] + 5000, f\"${row['Loss']:,.0f}\", color='black', ha=\"center\", fontsize=9)\n",
        "\n",
        "plt.tight_layout()\n",
        "plt.show()"
      ],
      "metadata": {
        "colab": {
          "base_uri": "https://localhost:8080/",
          "height": 694
        },
        "id": "8qB9OHZGse59",
        "outputId": "f6dee061-082b-4aa4-c835-c3babbc9dca9"
      },
      "execution_count": 3,
      "outputs": [
        {
          "output_type": "stream",
          "name": "stderr",
          "text": [
            "/tmp/ipython-input-553328684.py:17: FutureWarning: \n",
            "\n",
            "Passing `palette` without assigning `hue` is deprecated and will be removed in v0.14.0. Assign the `x` variable to `hue` and set `legend=False` for the same effect.\n",
            "\n",
            "  barplot = sns.barplot(x='Stage', y='Loss', data=df, palette=['red', 'green'])\n"
          ]
        },
        {
          "output_type": "display_data",
          "data": {
            "text/plain": [
              "<Figure size 800x600 with 1 Axes>"
            ],
            "image/png": "[encoded data removed]"
          },
          "metadata": {}
        }
      ]
    }
  ]
}