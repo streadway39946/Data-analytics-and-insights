{
 "metadata": {
  "kernelspec": {
   "display_name": "Streamlit Notebook",
   "name": "streamlit"
  }
 },
 "nbformat_minor": 5,
 "nbformat": 4,
 "cells": [
  {
   "cell_type": "markdown",
   "id": "056a4df5-a2ff-4e81-bc57-c60aad7ab2ff",
   "metadata": {
    "name": "cell5",
    "collapsed": false
   },
   "source": "## Install and import any required Python libraries."
  },
  {
   "cell_type": "code",
   "id": "3775908f-ca36-4846-8f38-5adca39217f2",
   "metadata": {
    "language": "python",
    "name": "cell1"
   },
   "source": "# Import python packages\nimport streamlit as st\nimport pandas as pd\nimport seaborn as sns\nimport matplotlib.pyplot as plt\nfrom sklearn.preprocessing import StandardScaler\nfrom sklearn.cluster import KMeans\n\n# Ignore warnings within the notebook\nimport warnings\nwarnings.filterwarnings('ignore')\n",
   "execution_count": null,
   "outputs": []
  },
  {
   "cell_type": "markdown",
   "id": "4e7e7cdf-6653-49ed-9b6c-d1b275aa2f22",
   "metadata": {
    "name": "cell6",
    "collapsed": false
   },
   "source": "## Query the database to extract these for each user:"
  },
  {
   "cell_type": "code",
   "id": "8d50cbf4-0c8d-4950-86cb-114990437ac9",
   "metadata": {
    "language": "sql",
    "name": "user_details"
   },
   "source": "-- Query the database to extract these for each user:\n    -- their user ID\n    -- their age\n    -- their total amount spent\n-- However, exclude the following:\n    -- users where a user ID is missing\n    -- orders that are returned or canceled \nSELECT \n    U.USER_ID, \n    U.AGE, \n    SUM(I.SALE_PRICE) AS TOTAL_SPENT\nFROM \n    USERS U\nINNER JOIN\n    ORDERS O\nON \n    U.USER_ID = O.USER_ID\nINNER JOIN\n    ORDER_ITEMS I\nON\n    O.ORDER_ID = I.ORDER_ID\nWHERE\n    U.USER_ID IS NOT NULL\nAND\n    O.STATUS != 'Returned'\nAND\n    O.STATUS != 'Cancelled'\nGROUP BY\n    U.USER_ID,\n    U.AGE\nORDER BY\n    TOTAL_SPENT DESC\nLIMIT 3;",
   "execution_count": null,
   "outputs": []
  },
  {
   "cell_type": "markdown",
   "id": "b0849055-7720-4dc9-beea-af2c033f0654",
   "metadata": {
    "name": "cell2",
    "collapsed": false
   },
   "source": "## Store the query results in a pandas dataframe"
  },
  {
   "cell_type": "code",
   "id": "c695373e-ac74-4b62-a1f1-08206cbd5c81",
   "metadata": {
    "language": "python",
    "name": "cell3"
   },
   "source": "# Store the query results in a pandas dataframe\n# Referencing the cell name user_details\ndf_users = user_details.to_pandas()",
   "execution_count": null,
   "outputs": []
  },
  {
   "cell_type": "markdown",
   "id": "910b76a4-af0f-41e5-b4b3-5f27f2005549",
   "metadata": {
    "name": "cell4",
    "collapsed": false
   },
   "source": "## Perform the following exploratory steps:"
  },
  {
   "cell_type": "code",
   "id": "32d27c55-910e-4afa-be24-deec0b814240",
   "metadata": {
    "language": "python",
    "name": "cell7"
   },
   "outputs": [],
   "source": "# Calculate the dimensions of the dataframe.\ndf_users.shape",
   "execution_count": null
  },
  {
   "cell_type": "code",
   "id": "5959eaa2-1103-4c94-abca-b185b50c2b8c",
   "metadata": {
    "language": "python",
    "name": "cell8"
   },
   "outputs": [],
   "source": "# Identify the datatypes for each field.\ndf_users.info()",
   "execution_count": null
  },
  {
   "cell_type": "code",
   "id": "5b83af49-287d-4ffa-8b16-c86272c74053",
   "metadata": {
    "language": "python",
    "name": "cell9"
   },
   "outputs": [],
   "source": "# Preview a few records of data.\ndf_users.head()",
   "execution_count": null
  },
  {
   "cell_type": "code",
   "id": "caab1a41-4239-43fb-9d20-8514a77aea50",
   "metadata": {
    "language": "python",
    "name": "cell10"
   },
   "outputs": [],
   "source": "# Determine if there are any null values.\ndf_users.isnull().sum()",
   "execution_count": null
  },
  {
   "cell_type": "code",
   "id": "4a8d0bb1-486a-4ffc-8d51-9150940277b1",
   "metadata": {
    "language": "python",
    "name": "cell11"
   },
   "outputs": [],
   "source": "# Determine if there are any duplicates.\nsum(df_users.duplicated(df_users.columns))",
   "execution_count": null
  },
  {
   "cell_type": "code",
   "id": "753758f3-c323-4b50-b6c2-ce9f86ee942d",
   "metadata": {
    "language": "python",
    "name": "cell12"
   },
   "outputs": [],
   "source": "# Generate descriptive stats for each field.\ndf_users.describe()",
   "execution_count": null
  },
  {
   "cell_type": "markdown",
   "id": "db847fb9-b7f2-4082-b899-bd2af18f1106",
   "metadata": {
    "name": "cell13",
    "collapsed": false
   },
   "source": "## Upload a histogram showing the distribution of ages."
  },
  {
   "cell_type": "code",
   "id": "0506b490-9e02-4322-8bd6-89fdcba37930",
   "metadata": {
    "language": "python",
    "name": "cell14"
   },
   "outputs": [],
   "source": "# Upload a histogram showing the distribution of ages.\nsns.histplot(data = df_users, x=\"AGE\", discrete=True)\nplt.xlim(11, 71)\nplt.ylim(1000, 1250)\nplt.show()",
   "execution_count": null
  },
  {
   "cell_type": "markdown",
   "id": "f84cfb69-ffda-4e09-831c-456c36656297",
   "metadata": {
    "name": "cell15",
    "collapsed": false
   },
   "source": "## Upload a histogram showing the distribution of amounts spent."
  },
  {
   "cell_type": "code",
   "id": "07336944-a738-4406-95ba-516752d52304",
   "metadata": {
    "language": "python",
    "name": "cell16"
   },
   "outputs": [],
   "source": "# Upload a histogram showing the distribution of amounts spent.\nsns.histplot(data = df_users, x=\"TOTAL_SPENT\")\nplt.xlim(0, 2000)",
   "execution_count": null
  },
  {
   "cell_type": "markdown",
   "id": "a6a8e33c-4328-4691-9c76-24eab162eed2",
   "metadata": {
    "name": "cell17",
    "collapsed": false
   },
   "source": "## Scale the input data prior to clustering."
  },
  {
   "cell_type": "code",
   "id": "5e7db677-0c0d-4b07-854b-2fdaae30f207",
   "metadata": {
    "language": "python",
    "name": "cell18"
   },
   "outputs": [],
   "source": "# Scale the input data prior to clustering.\nscaler = StandardScaler()\nscaled_data = scaler.fit_transform(df_users[['AGE', 'TOTAL_SPENT']])\n\n# Preview the scaled data (numpy array)\nscaled_data[:5]",
   "execution_count": null
  },
  {
   "cell_type": "markdown",
   "id": "c659489f-23c9-4cc2-924c-9d6316d11c11",
   "metadata": {
    "name": "cell19",
    "collapsed": false
   },
   "source": "## Perform k-means clustering."
  },
  {
   "cell_type": "code",
   "id": "9845d1ae-93c3-4520-b17a-3e8b5ea73eaa",
   "metadata": {
    "language": "python",
    "name": "cell20"
   },
   "outputs": [],
   "source": "# Perform k-means clustering.\n# Select the # of clusters based on the stakeholder interview = 4.\nkmeans = KMeans(n_clusters=4, random_state=0)\nkmeans.fit(scaled_data)",
   "execution_count": null
  },
  {
   "cell_type": "code",
   "id": "db0295f6-728e-4544-9ba1-5428626a6d05",
   "metadata": {
    "language": "python",
    "name": "cell21"
   },
   "outputs": [],
   "source": "# Looking into kmeans a little bit\n# Display the cluster centers.\nkmeans.cluster_centers_",
   "execution_count": null
  },
  {
   "cell_type": "code",
   "id": "e07bfb9a-e891-4d67-95d1-5297c37beecd",
   "metadata": {
    "language": "python",
    "name": "cell22"
   },
   "outputs": [],
   "source": "# Display the cluster assignments for a few rows of the data.\nkmeans.labels_[:5]",
   "execution_count": null
  },
  {
   "cell_type": "markdown",
   "id": "753dd428-641a-467d-92be-8ba8f70e07e7",
   "metadata": {
    "name": "cell23",
    "collapsed": false
   },
   "source": "## Add cluster assignments as a new field in the dataframe."
  },
  {
   "cell_type": "code",
   "id": "b2df978f-6d09-4643-a9af-5f0101a3b6df",
   "metadata": {
    "language": "python",
    "name": "cell24"
   },
   "outputs": [],
   "source": "# Add cluster assignments as a new field in the dataframe.\ndf_users['CLUSTER'] = kmeans.labels_\n\n# Preview the updated data.\ndf_users.head()",
   "execution_count": null
  },
  {
   "cell_type": "markdown",
   "id": "d6fd4b5c-24d8-4bf5-9ce4-9fc4bf91982a",
   "metadata": {
    "name": "cell25",
    "collapsed": false
   },
   "source": "## Upload a plot that counts the # of customers in each cluster."
  },
  {
   "cell_type": "code",
   "id": "154666c6-f141-4bb3-a791-c61a1c7fe5ed",
   "metadata": {
    "language": "python",
    "name": "cell26"
   },
   "outputs": [],
   "source": "# Upload a plot that counts the # of customers in each cluster\nsns.countplot(x='CLUSTER', hue='CLUSTER', palette='Dark2_r', data=df_users)",
   "execution_count": null
  },
  {
   "cell_type": "markdown",
   "id": "55464d84-5a36-45eb-a025-688ef00bb410",
   "metadata": {
    "name": "cell27",
    "collapsed": false
   },
   "source": "## Upload a heatmap showing customer ages and amounts with clusters as the colors."
  },
  {
   "cell_type": "code",
   "id": "ae6118cd-b221-427d-8f6e-8cbbee5714bd",
   "metadata": {
    "language": "python",
    "name": "cell28"
   },
   "outputs": [],
   "source": "# Upload a heatmap showing customer ages and amounts with clusters as the colors.\nsns.displot(df_users, x='AGE',  y='TOTAL_SPENT', hue=\"CLUSTER\", palette=\"Dark2_r\")\nplt.show()",
   "execution_count": null
  },
  {
   "cell_type": "markdown",
   "id": "2cd41c43-11e1-4115-bd84-662a8b93de6e",
   "metadata": {
    "name": "cell29",
    "collapsed": false
   },
   "source": "## Upload a boxplot showing the distribution of amounts by cluster."
  },
  {
   "cell_type": "code",
   "id": "0df01e99-b535-4f99-899d-f1150dfa73af",
   "metadata": {
    "language": "python",
    "name": "cell30"
   },
   "outputs": [],
   "source": "# Upload a boxplot showing the distribution of amounts by cluster.\nsns.boxplot(x=\"CLUSTER\", y=\"TOTAL_SPENT\", hue=\"CLUSTER\", palette=\"Dark2_r\", data=df_users)\nplt.show()",
   "execution_count": null
  }
 ]
}